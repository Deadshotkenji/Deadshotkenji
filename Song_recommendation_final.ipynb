{
 "cells": [
  {
   "cell_type": "code",
   "execution_count": 1,
   "metadata": {},
   "outputs": [],
   "source": [
    "import numpy as np\n",
    "import pandas as pd\n",
    "import matplotlib.pyplot as plt\n",
    "import seaborn as sns\n",
    "%matplotlib inline\n",
    "from sklearn.decomposition import NMF\n",
    "import sys\n",
    "from sklearn.cluster import KMeans\n",
    "from sklearn.neighbors import NearestNeighbors"
   ]
  },
  {
   "cell_type": "code",
   "execution_count": 2,
   "metadata": {},
   "outputs": [],
   "source": [
    "data=pd.read_csv(\"spotify.csv\", index_col=[0])"
   ]
  },
  {
   "cell_type": "code",
   "execution_count": 3,
   "metadata": {},
   "outputs": [],
   "source": [
    "#NMF - non-negative matrix factorisation is unsuperised alogorithm used fr decomosing matrix into two small matrices \n",
    "#Bigger matrix is also called as sparse matrix"
   ]
  },
  {
   "cell_type": "code",
   "execution_count": 4,
   "metadata": {},
   "outputs": [],
   "source": [
    "#read about perplexity -- used to calculate the effect of unsupervised algorithm"
   ]
  },
  {
   "cell_type": "code",
   "execution_count": 5,
   "metadata": {},
   "outputs": [],
   "source": [
    "def get_component_matrices(data):\n",
    "    x = data.values\n",
    "    nmf = NMF(n_components=100, max_iter=100, random_state=100)\n",
    "    nmf.fit(x)\n",
    "    #user matrix  - compoents of row matix\n",
    "    user_matix = nmf.transform(x)\n",
    "    #song matrix - compoents of column matix\n",
    "    song_matrix = nmf.components_\n",
    "    #transpose the song matix\n",
    "    song_matrix =song_matrix.T\n",
    "    return user_matix,song_matrix"
   ]
  },
  {
   "cell_type": "code",
   "execution_count": 6,
   "metadata": {},
   "outputs": [
    {
     "name": "stderr",
     "output_type": "stream",
     "text": [
      "C:\\Users\\Altamash\\anaconda3\\lib\\site-packages\\sklearn\\decomposition\\_nmf.py:1076: ConvergenceWarning: Maximum number of iterations 100 reached. Increase it to improve convergence.\n",
      "  warnings.warn(\"Maximum number of iterations %d reached. Increase it to\"\n",
      "C:\\Users\\Altamash\\anaconda3\\lib\\site-packages\\sklearn\\decomposition\\_nmf.py:1076: ConvergenceWarning: Maximum number of iterations 100 reached. Increase it to improve convergence.\n",
      "  warnings.warn(\"Maximum number of iterations %d reached. Increase it to\"\n"
     ]
    }
   ],
   "source": [
    "user_matix,song_matrix = get_component_matrices(data)"
   ]
  },
  {
   "cell_type": "code",
   "execution_count": 7,
   "metadata": {},
   "outputs": [],
   "source": [
    "#steps in building the recommedation system\n",
    "#step 1 - consider any user whom you want to recommend song\n",
    "#step 2 - find the euclidian distance between the every  user and the user selected in step number one\n",
    "#step 3 - find the song that frequently listned by nearest five users to user in step 1 \n",
    "#step 4 - recommend songs to user based on step 3"
   ]
  },
  {
   "cell_type": "code",
   "execution_count": 8,
   "metadata": {},
   "outputs": [],
   "source": [
    "def euclidean_distance(v1,v2):\n",
    "    return pow(sum([pow(v1[x]-v2[x],2) for x in range(len(v1))]),0.5)"
   ]
  },
  {
   "cell_type": "code",
   "execution_count": 9,
   "metadata": {},
   "outputs": [],
   "source": [
    "def Recommended_Song (user):\n",
    "    dist = []\n",
    "    user_matix,song_matrix = get_component_matrices(data)\n",
    "    for i in range(len(user_matix)):\n",
    "        if user !=i:\n",
    "            dist.append(euclidean_distance(user_matix[user],user_matix[i] )) \n",
    "        else:\n",
    "            dist.append(sys.float_info.max)\n",
    "    \n",
    "    dist_user_index = np.argsort(dist)[:5]\n",
    "    dist_user_dataframe = pd.DataFrame(data.iloc[dist_user_index,:])\n",
    "    \n",
    "    #find the top five songs with the highest frequencies among the songs listen by top 5\n",
    "    \n",
    "    highest_freq_songs = dist_user_dataframe.sum(axis=0)\n",
    "    return pd.DataFrame(highest_freq_songs).sort_values(ascending=False , by=0).head(5).index"
   ]
  },
  {
   "cell_type": "code",
   "execution_count": 10,
   "metadata": {},
   "outputs": [
    {
     "name": "stderr",
     "output_type": "stream",
     "text": [
      "C:\\Users\\Altamash\\anaconda3\\lib\\site-packages\\sklearn\\decomposition\\_nmf.py:1076: ConvergenceWarning: Maximum number of iterations 100 reached. Increase it to improve convergence.\n",
      "  warnings.warn(\"Maximum number of iterations %d reached. Increase it to\"\n",
      "C:\\Users\\Altamash\\anaconda3\\lib\\site-packages\\sklearn\\decomposition\\_nmf.py:1076: ConvergenceWarning: Maximum number of iterations 100 reached. Increase it to improve convergence.\n",
      "  warnings.warn(\"Maximum number of iterations %d reached. Increase it to\"\n"
     ]
    },
    {
     "data": {
      "text/plain": [
       "Index(['song_4366', 'song_2001', 'song_2998', 'song_2542', 'song_4355'], dtype='object')"
      ]
     },
     "execution_count": 10,
     "metadata": {},
     "output_type": "execute_result"
    }
   ],
   "source": [
    "Recommended_Song(1)"
   ]
  },
  {
   "cell_type": "code",
   "execution_count": 11,
   "metadata": {},
   "outputs": [
    {
     "name": "stderr",
     "output_type": "stream",
     "text": [
      "C:\\Users\\Altamash\\anaconda3\\lib\\site-packages\\sklearn\\decomposition\\_nmf.py:1076: ConvergenceWarning: Maximum number of iterations 100 reached. Increase it to improve convergence.\n",
      "  warnings.warn(\"Maximum number of iterations %d reached. Increase it to\"\n",
      "C:\\Users\\Altamash\\anaconda3\\lib\\site-packages\\sklearn\\decomposition\\_nmf.py:1076: ConvergenceWarning: Maximum number of iterations 100 reached. Increase it to improve convergence.\n",
      "  warnings.warn(\"Maximum number of iterations %d reached. Increase it to\"\n"
     ]
    },
    {
     "data": {
      "text/plain": [
       "Index(['song_386', 'song_2711', 'song_4173', 'song_1192', 'song_2421'], dtype='object')"
      ]
     },
     "execution_count": 11,
     "metadata": {},
     "output_type": "execute_result"
    }
   ],
   "source": [
    "Recommended_Song(100)"
   ]
  },
  {
   "cell_type": "code",
   "execution_count": 12,
   "metadata": {},
   "outputs": [],
   "source": [
    "#Clustering"
   ]
  },
  {
   "cell_type": "code",
   "execution_count": 13,
   "metadata": {},
   "outputs": [],
   "source": [
    "def cluster_id(data):\n",
    "    user_matix,song_matrix = get_component_matrices(data)\n",
    "    all_songs=data.columns\n",
    "    Km = KMeans(n_clusters=12, max_iter=1000).fit(song_matrix)\n",
    "    all_songs_cluster_id= Km.predict(song_matrix)\n",
    "    return all_songs_cluster_id"
   ]
  },
  {
   "cell_type": "code",
   "execution_count": 14,
   "metadata": {},
   "outputs": [
    {
     "name": "stderr",
     "output_type": "stream",
     "text": [
      "C:\\Users\\Altamash\\anaconda3\\lib\\site-packages\\sklearn\\decomposition\\_nmf.py:1076: ConvergenceWarning: Maximum number of iterations 100 reached. Increase it to improve convergence.\n",
      "  warnings.warn(\"Maximum number of iterations %d reached. Increase it to\"\n",
      "C:\\Users\\Altamash\\anaconda3\\lib\\site-packages\\sklearn\\decomposition\\_nmf.py:1076: ConvergenceWarning: Maximum number of iterations 100 reached. Increase it to improve convergence.\n",
      "  warnings.warn(\"Maximum number of iterations %d reached. Increase it to\"\n"
     ]
    },
    {
     "data": {
      "text/plain": [
       "array([11,  0,  9, ...,  8,  2, 10])"
      ]
     },
     "execution_count": 14,
     "metadata": {},
     "output_type": "execute_result"
    }
   ],
   "source": [
    "cluster_id(data)"
   ]
  },
  {
   "cell_type": "code",
   "execution_count": 15,
   "metadata": {},
   "outputs": [],
   "source": [
    "#This function return the songs names and songs id's present in the clsuter \n",
    "#the fucntion take clsuter id of songs being listened , song matix and all song names."
   ]
  },
  {
   "cell_type": "code",
   "execution_count": 16,
   "metadata": {},
   "outputs": [],
   "source": [
    "def song_from_cluster(cluster_id,song_matrix,all_songs):\n",
    "    collect_song_names=[]\n",
    "    collect_song_index=[]\n",
    "    for song_index in range(len(song_matrix)):\n",
    "        if Km.predict([song_matrix[song_index]])[0]==cluster_id:\n",
    "            collect_song_names.append(all_songs[song_index])\n",
    "            collect_song_index.append(song_index)\n",
    "    return collect_song_names,collect_song_index         "
   ]
  },
  {
   "cell_type": "code",
   "execution_count": 17,
   "metadata": {},
   "outputs": [],
   "source": [
    "def New_Song_recommendation(song_name,data,N_songs = 5):\n",
    "    user_matix,song_matrix = get_component_matrices(data)\n",
    "    km = KMeans(n_clusters=12, max_iter=1000).fit(song_matrix)\n",
    "    Index_of_song = list(data.columns).index(song_name)\n",
    "    song_data = song_matrix[Index_of_song]\n",
    "    #print(km.predict([song_data]))\n",
    "    all_song_cluster_id = list(km.predict(song_matrix))\n",
    "    # collect all song belonging to selected cluster\n",
    "    songs_index_in_selected_cluster_id = [x for x in range(len(all_song_cluster_id)) if all_song_cluster_id[x] == km.predict([song_data])]\n",
    "    song_cluster_data = song_matrix[songs_index_in_selected_cluster_id]\n",
    "    knn = NearestNeighbors(n_neighbors=N_songs)\n",
    "    knn.fit(song_cluster_data)\n",
    "    song_ids = knn.kneighbors([song_matrix[Index_of_song]])[1]\n",
    "    \n",
    "    return data.columns[song_ids]    "
   ]
  },
  {
   "cell_type": "code",
   "execution_count": 18,
   "metadata": {
    "scrolled": true
   },
   "outputs": [
    {
     "name": "stderr",
     "output_type": "stream",
     "text": [
      "C:\\Users\\Altamash\\anaconda3\\lib\\site-packages\\sklearn\\decomposition\\_nmf.py:1076: ConvergenceWarning: Maximum number of iterations 100 reached. Increase it to improve convergence.\n",
      "  warnings.warn(\"Maximum number of iterations %d reached. Increase it to\"\n",
      "C:\\Users\\Altamash\\anaconda3\\lib\\site-packages\\sklearn\\decomposition\\_nmf.py:1076: ConvergenceWarning: Maximum number of iterations 100 reached. Increase it to improve convergence.\n",
      "  warnings.warn(\"Maximum number of iterations %d reached. Increase it to\"\n",
      "<ipython-input-17-be62716c6d37>:15: FutureWarning: Support for multi-dimensional indexing (e.g. `obj[:, None]`) is deprecated and will be removed in a future version.  Convert to a numpy array before indexing instead.\n",
      "  return data.columns[song_ids]\n"
     ]
    },
    {
     "data": {
      "text/plain": [
       "array([['song_5', 'song_372', 'song_313', 'song_259', 'song_240']],\n",
       "      dtype=object)"
      ]
     },
     "execution_count": 18,
     "metadata": {},
     "output_type": "execute_result"
    }
   ],
   "source": [
    "New_Song_recommendation(\"song_23\",data)"
   ]
  },
  {
   "cell_type": "code",
   "execution_count": 19,
   "metadata": {},
   "outputs": [],
   "source": [
    "#lets assume that user is currently listening to song number 42\n",
    "current_song=\"song_42\""
   ]
  },
  {
   "cell_type": "code",
   "execution_count": 20,
   "metadata": {},
   "outputs": [],
   "source": [
    "#Extract the songs index for the songs currently being listened \n",
    "current_song_index= 41\n",
    "#Extarct the songs data from song matrix from current song index\n",
    "current_song_data=song_matrix[current_song_index]"
   ]
  },
  {
   "cell_type": "code",
   "execution_count": 24,
   "metadata": {},
   "outputs": [],
   "source": [
    "Km = KMeans(n_clusters=12, max_iter=1000).fit(song_matrix)\n",
    "all_songs = data.columns"
   ]
  },
  {
   "cell_type": "code",
   "execution_count": 25,
   "metadata": {},
   "outputs": [],
   "source": [
    "#Make call to get the songs names and song indexs from cluster of songs where the cuurent songs belongs \n",
    "current_song_names, current_song_index=song_from_cluster(Km.predict([song_matrix[current_song_index]])[0],song_matrix,all_songs)"
   ]
  },
  {
   "cell_type": "code",
   "execution_count": 26,
   "metadata": {},
   "outputs": [],
   "source": [
    "#Get the data for all songs present in the cluster \n",
    "song_data_in_cluster = song_matrix[current_song_index]"
   ]
  },
  {
   "cell_type": "code",
   "execution_count": 27,
   "metadata": {},
   "outputs": [
    {
     "data": {
      "text/plain": [
       "413"
      ]
     },
     "execution_count": 27,
     "metadata": {},
     "output_type": "execute_result"
    }
   ],
   "source": [
    "len(song_data_in_cluster)"
   ]
  },
  {
   "cell_type": "code",
   "execution_count": 28,
   "metadata": {},
   "outputs": [
    {
     "data": {
      "text/plain": [
       "NearestNeighbors()"
      ]
     },
     "execution_count": 28,
     "metadata": {},
     "output_type": "execute_result"
    }
   ],
   "source": [
    "knn= NearestNeighbors(n_neighbors=5)\n",
    "knn.fit(song_data_in_cluster)"
   ]
  },
  {
   "cell_type": "code",
   "execution_count": 29,
   "metadata": {},
   "outputs": [],
   "source": [
    "recommended_song = knn.kneighbors(song_matrix[current_song_index])[1]"
   ]
  },
  {
   "cell_type": "code",
   "execution_count": 30,
   "metadata": {},
   "outputs": [
    {
     "data": {
      "text/plain": [
       "array([[  0, 138, 236,   9, 313],\n",
       "       [  1, 313, 387,  81, 375],\n",
       "       [  2, 324, 216, 259, 140],\n",
       "       ...,\n",
       "       [410,  64, 108, 341, 209],\n",
       "       [411,  19, 333, 236, 217],\n",
       "       [412, 351, 153, 107, 325]], dtype=int64)"
      ]
     },
     "execution_count": 30,
     "metadata": {},
     "output_type": "execute_result"
    }
   ],
   "source": [
    "recommended_song"
   ]
  },
  {
   "cell_type": "code",
   "execution_count": 31,
   "metadata": {},
   "outputs": [
    {
     "data": {
      "text/plain": [
       "array([  0, 138, 236,   9, 313], dtype=int64)"
      ]
     },
     "execution_count": 31,
     "metadata": {},
     "output_type": "execute_result"
    }
   ],
   "source": [
    "recommended_song[0]"
   ]
  },
  {
   "cell_type": "code",
   "execution_count": 32,
   "metadata": {},
   "outputs": [
    {
     "data": {
      "text/plain": [
       "Index(['song_1', 'song_139', 'song_237', 'song_10', 'song_314'], dtype='object')"
      ]
     },
     "execution_count": 32,
     "metadata": {},
     "output_type": "execute_result"
    }
   ],
   "source": [
    "data.columns[recommended_song[0]]"
   ]
  },
  {
   "cell_type": "code",
   "execution_count": null,
   "metadata": {},
   "outputs": [],
   "source": [
    "#what are alternative to NMF\n",
    "#what are the alternativenative to euclidean distance,how to validate which parameter is good\n",
    "#how to choose number of feature for NMF\n",
    "#how to choose optimal no of cluster for kmeans\n",
    "#what is mean by perplexity"
   ]
  }
 ],
 "metadata": {
  "kernelspec": {
   "display_name": "Python 3",
   "language": "python",
   "name": "python3"
  },
  "language_info": {
   "codemirror_mode": {
    "name": "ipython",
    "version": 3
   },
   "file_extension": ".py",
   "mimetype": "text/x-python",
   "name": "python",
   "nbconvert_exporter": "python",
   "pygments_lexer": "ipython3",
   "version": "3.8.5"
  }
 },
 "nbformat": 4,
 "nbformat_minor": 4
}
